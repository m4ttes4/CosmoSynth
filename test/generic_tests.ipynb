{
 "cells": [
  {
   "cell_type": "code",
   "execution_count": 2,
   "metadata": {},
   "outputs": [
    {
     "name": "stdout",
     "output_type": "stream",
     "text": [
      "PARAM NAME: p1\n",
      "    NAME      VALUE  IS-FREE    PRIOR                      DESCR:\n",
      "0   p1        10000  Yes        Uniform(1.0e+10, 1.0e+13)  My Parameter\n",
      "\n",
      "(-inf, inf)\n"
     ]
    }
   ],
   "source": [
    "from parameter import Parameter\n",
    "import numpy as np\n",
    "from priors import UniformPrior\n",
    "\n",
    "p1 = Parameter(name='p1', \n",
    "               value=1e4, \n",
    "               frozen=False, \n",
    "               prior=UniformPrior(1e10, 1e13),\n",
    "               description='My Parameter',\n",
    "               #constrain=None,\n",
    "               #bounds = (1e10, 1e13)\n",
    "               )\n",
    "\n",
    "\n",
    "\n",
    "print(p1)\n",
    "print(p1.bounds)"
   ]
  },
  {
   "cell_type": "code",
   "execution_count": 3,
   "metadata": {},
   "outputs": [
    {
     "name": "stdout",
     "output_type": "stream",
     "text": [
      "PARAM NAME: p3\n",
      "    NAME      VALUE  IS-FREE    PRIOR               DESCR:\n",
      "0   p3           10  Yes        Uniform(-inf, inf)\n",
      "\n"
     ]
    }
   ],
   "source": [
    "from parameter import FunctionConstrain\n",
    "\n",
    "p3 = Parameter(name='p3', value=10)\n",
    "\n",
    "print(p3)\n",
    "#print(p3.constrain(p3.value))"
   ]
  },
  {
   "cell_type": "code",
   "execution_count": 4,
   "metadata": {},
   "outputs": [
    {
     "name": "stdout",
     "output_type": "stream",
     "text": [
      "    NAME      VALUE  PRIOR               IS-FREE    DESCR\n",
      "0   param1    5e+44  Uniform(-inf, inf)  No\n",
      "1   param2    7      Uniform(-inf, inf)  Yes\n",
      "2   param3    3.5    Uniform(-inf, inf)  Yes\n"
     ]
    }
   ],
   "source": [
    "from parameter import ParameterHandler\n",
    "\n",
    "p1 = Parameter(name=\"param1\", value=5e44, bounds=(0.0, 10e44), frozen=True)\n",
    "p2 = Parameter(name=\"param2\", value=7.0, bounds=(0.0, 10.0))\n",
    "p3 = Parameter(name=\"param3\", value=3.5)\n",
    "handler = ParameterHandler([p1, p2, p3])\n",
    "\n",
    "print(handler)\n",
    "# handler.add_parameter(p3, name = 't')\n",
    "#print(handler.parameters_names)\n",
    "#print(handler._map_name_to_index(\"param1\"))\n",
    "#print([p.name for p in handler])"
   ]
  },
  {
   "cell_type": "code",
   "execution_count": 5,
   "metadata": {},
   "outputs": [
    {
     "name": "stdout",
     "output_type": "stream",
     "text": [
      "{}\n",
      "{'parameters_names': ['param1', 'param2', 'param3'], 'parameters_values': [5e+44, 2.2, 3.5], 'parameters_bounds': [(0.0, 1e+45), (0.0, 10.0), (-inf, inf)], 'parameters_keys': ['param1', 'param2', 'param3'], 'parameters_values_dict': {'param1': 5e+44, 'param2': 2.2, 'param3': 3.5}, 'binary_freeze_map': [True, False, False], 'binary_melt_map': [False, True, True], 'frozen_indeces': [0], 'not_frozen_indeces': [1, 2], 'free_parameters': [<parameter.Parameter object at 0x7f2dc1348e90>, <parameter.Parameter object at 0x7f2dc134a090>], 'not_free_parameters': [<parameter.Parameter object at 0x7f2dc1349190>]}\n"
     ]
    }
   ],
   "source": [
    "print(handler._cache)   # is ok to be empty, cache is filled by the model\n",
    "handler['param2'].value = 2.2\n",
    "#handler.set_values([3.4])\n",
    "print(handler._cache)"
   ]
  },
  {
   "cell_type": "code",
   "execution_count": 6,
   "metadata": {},
   "outputs": [],
   "source": [
    "def gaussian(x, mu, sigma):\n",
    "    return (1 / (sigma * np.sqrt(2 * np.pi))) * np.exp(-0.5 * ((x - mu) / sigma) ** 2)\n",
    "\n",
    "\n",
    "def simple_sum(a,b):\n",
    "    return a+b"
   ]
  },
  {
   "cell_type": "code",
   "execution_count": 7,
   "metadata": {},
   "outputs": [
    {
     "name": "stdout",
     "output_type": "stream",
     "text": [
      "Caratteristiche principali del modello:\n",
      "\n",
      "Nome del modello: SimpleModel\n",
      "Numero di dimensioni: 1\n",
      "Numero di input: 3\n",
      "Numero di output: 1\n",
      "Numero di parametri: 2\n",
      "Numero di parametri liberi: 2\n",
      "Variabili della griglia: ['x']\n",
      "Parametri congelati: []\n",
      "Parametri liberi: ['mu', 'sigma']\n",
      "model mask: [False, False]\n",
      "\n",
      "Dettagli completi del modello:\n",
      "MODEL NAME: SimpleModel\n",
      "FREE PARAMS: 2\n",
      "GRID VARIABLES: ['x']\n",
      "N-DIM: 1\n",
      "----------------------------------------------------------------------------------------------------\n",
      "  INDEX  NAME      VALUE  IS-FREE    PRIOR               DESCR\n",
      "      0  mu           22  Yes        Uniform(-inf, inf)\n",
      "      1  sigma         0  Yes        Uniform(-inf, inf)\n"
     ]
    }
   ],
   "source": [
    "from model import Model\n",
    "\n",
    "model = Model.wrap(gaussian, params=['mu','sigma'], default_values=0.0, initial_values={'mu':22})  # uno opzionale\n",
    "\n",
    "# Stampa delle caratteristiche principali del modello\n",
    "print(\"Caratteristiche principali del modello:\\n\")\n",
    "print(f\"Nome del modello: {model.name}\")\n",
    "print(f\"Numero di dimensioni: {model.n_dim}\")\n",
    "print(f\"Numero di input: {model.n_inputs}\")\n",
    "print(f\"Numero di output: {model.n_outputs}\")\n",
    "print(f\"Numero di parametri: {model.n_parameters}\")\n",
    "print(f\"Numero di parametri liberi: {model.n_free_parameters}\")\n",
    "print(f\"Variabili della griglia: {model.grid_variables}\")\n",
    "print(f\"Parametri congelati: {[p.name for p in model.not_free_parameters]}\")\n",
    "print(f\"Parametri liberi: {[p.name for p in model.free_parameters]}\")\n",
    "print(f'model mask: {model._binary_freeze_map}')\n",
    "# Stampa dei dettagli completi del modello\n",
    "print(\"\\nDettagli completi del modello:\")\n",
    "print(model)"
   ]
  },
  {
   "cell_type": "markdown",
   "metadata": {},
   "source": [
    ". da fare: creare interfaccia unificata per aggiungere constrains ai modelli ma agire al tempo stesso sui parametri"
   ]
  },
  {
   "cell_type": "code",
   "execution_count": 8,
   "metadata": {},
   "outputs": [
    {
     "name": "stdout",
     "output_type": "stream",
     "text": [
      "[]\n",
      "MODEL NAME: SimpleModel\n",
      "FREE PARAMS: 2\n",
      "GRID VARIABLES: ['x']\n",
      "N-DIM: 1\n",
      "----------------------------------------------------------------------------------------------------\n",
      "  INDEX  NAME      VALUE  IS-FREE    PRIOR               DESCR\n",
      "      0  mu           22  Yes        Uniform(-inf, inf)\n",
      "      1  sigma         0  Yes        Uniform(-inf, inf)\n",
      "[]\n",
      "constrain_test\n"
     ]
    }
   ],
   "source": [
    "from parameter import TieConstrain, FunctionConstrain\n",
    "\n",
    "print(model.constrains)\n",
    "\n",
    "def constrain_test(params):\n",
    "    params['mu'] += 10\n",
    "    return params\n",
    "\n",
    "my_constrain = FunctionConstrain(constrain_test)\n",
    "\n",
    "model.add_constrain(my_constrain)\n",
    "model.remove_constrain(my_constrain)\n",
    "\n",
    "print(model)\n",
    "print(model.constrains)\n",
    "print(my_constrain.name)"
   ]
  },
  {
   "cell_type": "markdown",
   "metadata": {},
   "source": []
  },
  {
   "cell_type": "code",
   "execution_count": 9,
   "metadata": {},
   "outputs": [
    {
     "name": "stdout",
     "output_type": "stream",
     "text": [
      "0.0035474592846231425\n",
      "0.0035474592846231425\n"
     ]
    }
   ],
   "source": [
    "print(model.evaluate(x=0, mu=22, sigma=10))\n",
    "print(model.call([0],22,10))"
   ]
  },
  {
   "cell_type": "code",
   "execution_count": null,
   "metadata": {},
   "outputs": [],
   "source": []
  },
  {
   "cell_type": "code",
   "execution_count": 10,
   "metadata": {},
   "outputs": [
    {
     "name": "stdout",
     "output_type": "stream",
     "text": [
      "{'parameters_names': ['mu', 'sigma'], 'parameters_values': [22, 0.0], 'parameters_bounds': [(-inf, inf), (-inf, inf)], 'parameters_keys': ['mu', 'sigma'], 'parameters_values_dict': {'mu': 22, 'sigma': 0.0}, 'binary_freeze_map': [False, False], 'binary_melt_map': [True, True], 'frozen_indeces': [], 'not_frozen_indeces': [0, 1], 'free_parameters': [<parameter.Parameter object at 0x7f2dc13487a0>, <parameter.Parameter object at 0x7f2dc134a330>], 'not_free_parameters': []}\n",
      "[1.3, 0.0]\n",
      "{'parameters_names': ['mu', 'sigma'], 'parameters_values': [1.3, 0.0], 'parameters_bounds': [(-inf, inf), (-inf, inf)], 'parameters_keys': ['mu', 'sigma'], 'parameters_values_dict': {'mu': 1.3, 'sigma': 0.0}, 'binary_freeze_map': [False, False], 'binary_melt_map': [True, True], 'frozen_indeces': [], 'not_frozen_indeces': [0, 1], 'free_parameters': [<parameter.Parameter object at 0x7f2dc13487a0>, <parameter.Parameter object at 0x7f2dc134a330>], 'not_free_parameters': []}\n",
      "['mu', 'sigma']\n",
      "{'mu': 1.3, 'sigma': 0.0}\n"
     ]
    }
   ],
   "source": [
    "print(model.parameters._cache)\n",
    "model.set_parameters_values(mu=1.3)\n",
    "#model['mu'].name = 'mu0'\n",
    "print(model.parameters_values)\n",
    "print(model.parameters._cache)\n",
    "print(model.parameters_keys)\n",
    "print(model.parameters_values_dict)"
   ]
  },
  {
   "cell_type": "code",
   "execution_count": 11,
   "metadata": {},
   "outputs": [
    {
     "name": "stdout",
     "output_type": "stream",
     "text": [
      "6.43254033463575e-33\n",
      "0.24197072451914337\n",
      "0.16148617983395713\n"
     ]
    }
   ],
   "source": [
    "print(model.evaluate(0,12.1,1))\n",
    "print(model.call([0], 1,1))\n",
    "print(model(x=0, mu=1.3, sigma=2))\n"
   ]
  },
  {
   "cell_type": "code",
   "execution_count": 12,
   "metadata": {},
   "outputs": [
    {
     "name": "stdout",
     "output_type": "stream",
     "text": [
      "Tempo funzione eval: 0.096514 secondi\n",
      "Tempo funzione call: 0.244742 secondi\n",
      "Tempo funzione astropy: 1.285147 secondi\n",
      "Tempo funzione __call__: 0.114106 secondi\n"
     ]
    }
   ],
   "source": [
    "from astropy.modeling.models import Gaussian1D, Gaussian2D\n",
    "import timeit\n",
    "\n",
    "astropy_gaussian = Gaussian1D()\n",
    "\n",
    "def eval():\n",
    "    return model.evaluate(x=0, mu=1,sigma=2)\n",
    "\n",
    "def call():\n",
    "    return model.call([1],11,1)\n",
    "\n",
    "def _call_():\n",
    "    return model(0,mu=1,sigma=2)\n",
    "\n",
    "def astropy_mod():\n",
    "    return astropy_gaussian(0)\n",
    "    #return model.call([1], 1)\n",
    "\n",
    "time_original = timeit.timeit(eval, number=100_000)\n",
    "time_optimized = timeit.timeit(call, number=100_000)\n",
    "time_astro = timeit.timeit(astropy_mod, number=100_000)\n",
    "time_call = timeit.timeit(_call_, number=100_000)\n",
    "\n",
    "\n",
    "print(f\"Tempo funzione eval: {time_original:.6f} secondi\")\n",
    "print(f\"Tempo funzione call: {time_optimized:.6f} secondi\")\n",
    "print(f\"Tempo funzione astropy: {time_astro:.6f} secondi\")\n",
    "print(f\"Tempo funzione __call__: {time_call:.6f} secondi\")\n"
   ]
  },
  {
   "cell_type": "code",
   "execution_count": 13,
   "metadata": {},
   "outputs": [
    {
     "name": "stdout",
     "output_type": "stream",
     "text": [
      "MODEL NAME: SimpleModel\n",
      "FREE PARAMS: 2\n",
      "GRID VARIABLES: []\n",
      "N-DIM: 0\n",
      "----------------------------------------------------------------------------------------------------\n",
      "  INDEX  NAME      VALUE  IS-FREE    PRIOR               DESCR\n",
      "      0  a             1  Yes        Uniform(-inf, inf)\n",
      "      1  b             1  Yes        Uniform(-inf, inf)\n",
      "0\n"
     ]
    }
   ],
   "source": [
    "simple_model = Model.wrap(simple_sum)\n",
    "#simple_model['new'] = Parameter('new',11)\n",
    "#simple_model.parameters.add_parameter(Parameter(\"new\", 11))\n",
    "\n",
    "print(simple_model)\n",
    "print(simple_model.evaluate(a=0,b=0))\n"
   ]
  },
  {
   "cell_type": "code",
   "execution_count": 14,
   "metadata": {},
   "outputs": [
    {
     "name": "stdout",
     "output_type": "stream",
     "text": [
      "COMPOSITE MODEL NAME: CompositeModel\n",
      "CONTAINED MODELS: SimpleModel, SimpleModel\n",
      "GRID VARIABLES: []\n",
      "LOGIC: (SimpleModel [0] + SimpleModel [1])\n",
      "FREE PARAMS: 4\n",
      "------------------------------------------------------------\n",
      "  INDEX  NAME      VALUE  IS-FREE    PRIOR               DESCR\n",
      "      0  a_0           1  Yes        Uniform(-inf, inf)\n",
      "      1  b_0           1  Yes        Uniform(-inf, inf)\n",
      "      2  a_1           1  Yes        Uniform(-inf, inf)\n",
      "      3  b_1           1  Yes        Uniform(-inf, inf)\n",
      "5.0\n"
     ]
    }
   ],
   "source": [
    "simple_cmodel = simple_model.copy() + simple_model.copy()\n",
    "\n",
    "print(simple_cmodel)\n",
    "\n",
    "print(simple_cmodel(b_1 = 2))"
   ]
  },
  {
   "cell_type": "code",
   "execution_count": 15,
   "metadata": {},
   "outputs": [
    {
     "name": "stdout",
     "output_type": "stream",
     "text": [
      "Caratteristiche principali del modello:\n",
      "\n",
      "Nome del modello: CompositeModel\n",
      "Numero di dimensioni: 1\n",
      "Numero di input: 5\n",
      "Numero di output: 1\n",
      "Numero di parametri: 4\n",
      "Numero di parametri liberi: 4\n",
      "Variabili della griglia: ['x']\n",
      "Parametri congelati: []\n",
      "Parametri liberi: ['mu', 'sigma', 'mu', 'sigma']\n",
      "cmodel mask: [False, False, False, False]\n",
      "\n",
      "Dettagli completi del cmodello:\n",
      "COMPOSITE MODEL NAME: CompositeModel\n",
      "CONTAINED MODELS: SimpleModel, SimpleModel\n",
      "GRID VARIABLES: ['x']\n",
      "LOGIC: (SimpleModel [0] + SimpleModel [1])\n",
      "FREE PARAMS: 4\n",
      "------------------------------------------------------------\n",
      "  INDEX  NAME       VALUE  IS-FREE    PRIOR               DESCR\n",
      "      0  mu_0         1.3  Yes        Uniform(-inf, inf)\n",
      "      1  sigma_0      0    Yes        Uniform(-inf, inf)\n",
      "      2  mu_1         1.3  Yes        Uniform(-inf, inf)\n",
      "      3  sigma_1      0    Yes        Uniform(-inf, inf)\n"
     ]
    }
   ],
   "source": [
    "from model import CompositeModel\n",
    "\n",
    "\n",
    "cmodel = model.copy() + model.copy() \n",
    "\n",
    "print(\"Caratteristiche principali del modello:\\n\")\n",
    "print(f\"Nome del modello: {cmodel.name}\")\n",
    "print(f\"Numero di dimensioni: {cmodel.n_dim}\")\n",
    "print(f\"Numero di input: {cmodel.n_inputs}\")\n",
    "print(f\"Numero di output: {cmodel.n_outputs}\")\n",
    "print(f\"Numero di parametri: {cmodel.n_parameters}\")\n",
    "print(f\"Numero di parametri liberi: {cmodel.n_free_parameters}\")\n",
    "print(f\"Variabili della griglia: {cmodel.grid_variables}\")\n",
    "print(f\"Parametri congelati: {[p.name for p in cmodel.not_free_parameters]}\")\n",
    "print(f\"Parametri liberi: {[p.name for p in cmodel.free_parameters]}\")\n",
    "print(f\"cmodel mask: {cmodel._binary_freeze_map}\")\n",
    "# Stampa dei dettagli completi del cmodello\n",
    "print(\"\\nDettagli completi del cmodello:\")\n",
    "print(cmodel)"
   ]
  },
  {
   "cell_type": "markdown",
   "metadata": {},
   "source": [
    "### wrapping model"
   ]
  },
  {
   "cell_type": "code",
   "execution_count": 16,
   "metadata": {},
   "outputs": [
    {
     "name": "stdout",
     "output_type": "stream",
     "text": [
      "COMPOSITE MODEL NAME: CompositeModel\n",
      "CONTAINED MODELS: SimpleModel, SimpleModel, SimpleModel\n",
      "GRID VARIABLES: ['x']\n",
      "LOGIC: ((SimpleModel [0] + SimpleModel [1]) | SimpleModel [2])\n",
      "FREE PARAMS: 6\n",
      "------------------------------------------------------------\n",
      "  INDEX  NAME       VALUE  IS-FREE    PRIOR               DESCR\n",
      "      0  mu_0         1.3  Yes        Uniform(-inf, inf)\n",
      "      1  sigma_0      0    Yes        Uniform(-inf, inf)\n",
      "      2  mu_1         1.3  Yes        Uniform(-inf, inf)\n",
      "      3  sigma_1      0    Yes        Uniform(-inf, inf)\n",
      "      4  mu_2         1.3  Yes        Uniform(-inf, inf)\n",
      "      5  sigma_2      0    Yes        Uniform(-inf, inf)\n"
     ]
    }
   ],
   "source": [
    "\n",
    "composite = cmodel.copy() | model.copy()\n",
    "#composite['mu_0']['bounds'] = [1,2]\n",
    "print(composite)"
   ]
  },
  {
   "cell_type": "code",
   "execution_count": 17,
   "metadata": {},
   "outputs": [
    {
     "name": "stdout",
     "output_type": "stream",
     "text": [
      "Composite(op='|')\n",
      "    |-- Composite(op='+')\n",
      "    |   |-- SimpleModel\n",
      "    |   `-- SimpleModel\n",
      "    `-- SimpleModel\n"
     ]
    }
   ],
   "source": [
    "#composite.call([0],1.8,1.9,1)\n",
    "composite.print_tree()\n",
    "#print(composite(0))\n",
    "#composite(0, sigma_2 = 33)\n",
    "#composite['sigma_2'] =  Parameter('sigma_2', 11)\n",
    "#composite['sigma_2'].bounds = (-1,1)\n",
    "#composite['sigma_2'].value = 0.45\n",
    "#composite.set_parameters_values(sigma_2 = 3.33)\n",
    "#print(composite)"
   ]
  },
  {
   "cell_type": "code",
   "execution_count": 18,
   "metadata": {},
   "outputs": [
    {
     "name": "stdout",
     "output_type": "stream",
     "text": [
      "COMPOSITE MODEL NAME: CompositeModel\n",
      "CONTAINED MODELS: SimpleModel, SimpleModel\n",
      "GRID VARIABLES: ['x']\n",
      "LOGIC: (SimpleModel [0] | SimpleModel [1])\n",
      "FREE PARAMS: 2\n",
      "------------------------------------------------------------\n",
      "  INDEX  NAME      VALUE  IS-FREE    PRIOR               DESCR\n",
      "      0  a_0           1  Yes        Uniform(-inf, inf)  stocazzo\n",
      "      1  b_1           1  Yes        Uniform(-inf, inf)\n",
      "0.0\n",
      "0\n"
     ]
    }
   ],
   "source": [
    "from model import Model\n",
    "from parameter import TieConstrain, FunctionConstrain\n",
    "\n",
    "def grid1(x, a):\n",
    "    return x - a\n",
    "\n",
    "def grid2(y, b):\n",
    "    return y + b\n",
    "\n",
    "mod1 = Model.wrap(grid1, grid_variables=['x'], param_option={\n",
    "    'a':{\n",
    "        'bounds':(-100,100),\n",
    "        'value':1,\n",
    "        'description': 'stocazzo',\n",
    "        \n",
    "    }\n",
    "})\n",
    "mod2 = Model.wrap(grid2, grid_variables = ['y'])\n",
    "\n",
    "comp = mod1 | mod2\n",
    "#comp['a_0'].frozen = True\n",
    "#comp['b_1'].frozen = True\n",
    "#comp[\"a_0\"].constrain =  TieConstrain(func = lambda x: x,param = 'b_1')  # FunctionConstrain(lambda x: x*10)#\n",
    "print(comp)\n",
    "#print(mod2(10))\n",
    "#print(mod1(x=10, a=2))\n",
    "print(comp(0))\n",
    "#print(comp.parameters_keys)\n",
    "print(comp.call([0], 0,0))\n"
   ]
  },
  {
   "cell_type": "markdown",
   "metadata": {},
   "source": [
    ". test constrains su modello composito"
   ]
  },
  {
   "cell_type": "code",
   "execution_count": 19,
   "metadata": {},
   "outputs": [
    {
     "name": "stdout",
     "output_type": "stream",
     "text": [
      "0\n"
     ]
    }
   ],
   "source": [
    "def my_constrain(params):\n",
    "    params['a_0'] += 100\n",
    "    return\n",
    "\n",
    "test_c = FunctionConstrain(my_constrain)\n",
    "#comp.add_constrain(test_c)\n",
    "#comp.remove_constrain(test_c)\n",
    "print(comp.call([0],0,0))"
   ]
  },
  {
   "cell_type": "markdown",
   "metadata": {},
   "source": []
  },
  {
   "cell_type": "code",
   "execution_count": 20,
   "metadata": {},
   "outputs": [
    {
     "name": "stdout",
     "output_type": "stream",
     "text": [
      "Tempo funzione eval: 0.128083 secondi\n"
     ]
    }
   ],
   "source": [
    "# time delle funzioni\n",
    "import timeit\n",
    "\n",
    "def evaluate_comp():\n",
    "    return comp(0, a_0=0, b_1=1)\n",
    "    # return model.call([1], 1)\n",
    "\n",
    "\n",
    "time = timeit.timeit(evaluate_comp, number=100_000)\n",
    "\n",
    "print(f\"Tempo funzione eval: {time:.6f} secondi\")\n"
   ]
  },
  {
   "cell_type": "code",
   "execution_count": 21,
   "metadata": {},
   "outputs": [
    {
     "name": "stdout",
     "output_type": "stream",
     "text": [
      "COMPOSITE MODEL NAME: CompositeModel\n",
      "CONTAINED MODELS: SimpleModel, SimpleModel, SimpleModel, SimpleModel\n",
      "GRID VARIABLES: ['x']\n",
      "LOGIC: (((SimpleModel [0] | SimpleModel [1]) + SimpleModel [2]) | SimpleModel [3])\n",
      "FREE PARAMS: 4\n",
      "------------------------------------------------------------\n",
      "  INDEX  NAME      VALUE  IS-FREE    PRIOR               DESCR\n",
      "      0  a_0           1  Yes        Uniform(-inf, inf)  stocazzo\n",
      "      1  b_1           1  Yes        Uniform(-inf, inf)\n",
      "      2  b_2           1  Yes        Uniform(-inf, inf)\n",
      "      3  a_3           1  Yes        Uniform(-inf, inf)  stocazzo\n"
     ]
    },
    {
     "data": {
      "text/plain": [
       "0.0"
      ]
     },
     "execution_count": 21,
     "metadata": {},
     "output_type": "execute_result"
    }
   ],
   "source": [
    "new_comp = (comp.copy() + mod2.copy()) | mod1.copy()\n",
    "\n",
    "print(new_comp)\n",
    "#print(new_comp._left_kwarg_map, new_comp._right_kwarg_map)\n",
    "\n",
    "new_comp(0)"
   ]
  },
  {
   "cell_type": "code",
   "execution_count": 22,
   "metadata": {},
   "outputs": [
    {
     "name": "stdout",
     "output_type": "stream",
     "text": [
      "COMPOSITE MODEL NAME: CompositeModel\n",
      "CONTAINED MODELS: redshift factor, energy distribution\n",
      "GRID VARIABLES: ['x']\n",
      "LOGIC: (redshift factor [0] | energy distribution [1])\n",
      "FREE PARAMS: 3\n",
      "------------------------------------------------------------\n",
      "  INDEX  NAME          VALUE  IS-FREE    PRIOR               DESCR\n",
      "      0  redshift_0        1  Yes        Uniform(-inf, inf)  z\n",
      "      1  x0_1              1  Yes        Uniform(-inf, inf)\n",
      "      2  sigma_1           1  Yes        Uniform(-inf, inf)\n"
     ]
    },
    {
     "data": {
      "text/plain": [
       "<matplotlib.legend.Legend at 0x7f2d831dd4c0>"
      ]
     },
     "execution_count": 22,
     "metadata": {},
     "output_type": "execute_result"
    },
    {
     "data": {
      "image/png": "[encoded data removed]",
      "text/plain": [
       "<Figure size 800x500 with 1 Axes>"
      ]
     },
     "metadata": {},
     "output_type": "display_data"
    }
   ],
   "source": [
    "from model import Model\n",
    "import matplotlib.pyplot as plt\n",
    "\n",
    "def gaussian_1d(x, x0, sigma):\n",
    "    return np.exp(-((x - x0) ** 2) / (2 * sigma**2))\n",
    "\n",
    "def scale_factor(x, redshift):\n",
    "    return x*(1 + redshift)\n",
    "\n",
    "energy = Model.wrap(gaussian_1d, grid_variables=['x'],\n",
    "                    name = 'energy distribution')\n",
    "\n",
    "redshift = Model.wrap(scale_factor, grid_variables=['x'],\n",
    "                      name = 'redshift factor')\n",
    "\n",
    "redshifted_energy = redshift |  energy \n",
    "\n",
    "redshifted_energy['redshift_0'].description = 'z'\n",
    "print(redshifted_energy)\n",
    "\n",
    "x = np.linspace(0, 1.2, 100)\n",
    "\n",
    "plt.figure(figsize=(8, 5))\n",
    "plt.plot(x, redshifted_energy(x, redshift_0 = 0, x0_1=0.6, sigma_1 =.1), \"g--\", label=\"$z=0$\")\n",
    "\n",
    "for z in (0.2, 0.6, .9):\n",
    "    #g = RedshiftScaleFactor(z) | Gaussian1D(1, 0.75, 0.1)\n",
    "    plt.plot(\n",
    "        x, redshifted_energy(x, redshift_0=z, x0_1=0.6,sigma_1 =.1), color=plt.cm.OrRd(z/1.1), label=f\"$z={z}$\"\n",
    "    )\n",
    "\n",
    "plt.xlabel(\"Energy\")\n",
    "plt.ylabel(\"Flux\")\n",
    "plt.legend()\n"
   ]
  },
  {
   "cell_type": "code",
   "execution_count": 23,
   "metadata": {},
   "outputs": [
    {
     "name": "stdout",
     "output_type": "stream",
     "text": [
      "COMPOSITE MODEL NAME: CompositeModel\n",
      "CONTAINED MODELS: redshift factor, energy distribution, inverse redshift factor\n",
      "GRID VARIABLES: ['x']\n",
      "LOGIC: ((redshift factor [0] | energy distribution [1]) | inverse redshift factor [2])\n",
      "FREE PARAMS: 4\n",
      "------------------------------------------------------------\n",
      "  INDEX  NAME          VALUE  IS-FREE    PRIOR               DESCR\n",
      "      0  redshift_0        1  Yes        Uniform(-inf, inf)  z\n",
      "      1  x0_1              1  Yes        Uniform(-inf, inf)\n",
      "      2  sigma_1           1  Yes        Uniform(-inf, inf)\n",
      "      3  redshift_2        1  Yes        Uniform(-inf, inf)  inverse z\n"
     ]
    },
    {
     "data": {
      "text/plain": [
       "<matplotlib.legend.Legend at 0x7f2d82fd9640>"
      ]
     },
     "execution_count": 23,
     "metadata": {},
     "output_type": "execute_result"
    },
    {
     "data": {
      "image/png": "[encoded data removed]",
      "text/plain": [
       "<Figure size 800x500 with 1 Axes>"
      ]
     },
     "metadata": {},
     "output_type": "display_data"
    }
   ],
   "source": [
    "from model import Model\n",
    "import matplotlib.pyplot as plt\n",
    "\n",
    "def inverse_scale_factor(x, redshift):\n",
    "    return x/(1+redshift)\n",
    "\n",
    "\n",
    "\n",
    "inverse_redshift = Model.wrap(inverse_scale_factor, \n",
    "                              grid_variables=['x'],\n",
    "                              name = 'inverse redshift factor')\n",
    "\n",
    "redshifted_energy = redshift | energy | inverse_redshift \n",
    "\n",
    "redshifted_energy['redshift_2'].description = r'inverse z'\n",
    "print(redshifted_energy)\n",
    "\n",
    "x = np.linspace(0, 1.2, 100)\n",
    "\n",
    "plt.figure(figsize=(8, 5))\n",
    "plt.plot(\n",
    "    x, redshifted_energy(x, redshift_0=0, x0_1=0.6, sigma_1=0.1, redshift_2=0), \"g--\", label=\"$z=0$\"\n",
    ")\n",
    "\n",
    "for z in (0.2, 0.6, .9):\n",
    "    # g = RedshiftScaleFactor(z) | Gaussian1D(1, 0.75, 0.1)\n",
    "    plt.plot(\n",
    "        x,\n",
    "        redshifted_energy(x, redshift_0=z, x0_1=0.6, sigma_1=0.1, redshift_2=z),\n",
    "        color=plt.cm.OrRd(z / 1.1),\n",
    "        label=f\"$z={z}$\",\n",
    "    )\n",
    "\n",
    "plt.xlabel(\"Energy\")\n",
    "plt.ylabel(\"Flux\")\n",
    "plt.legend()\n"
   ]
  },
  {
   "cell_type": "code",
   "execution_count": 24,
   "metadata": {},
   "outputs": [
    {
     "name": "stdout",
     "output_type": "stream",
     "text": [
      "a = 11, b = 33c=22, d=1\n"
     ]
    }
   ],
   "source": [
    "from model import Model\n",
    "from parameter import TieConstrain\n",
    "\n",
    "def check1(a, b):\n",
    "    return f'a = {a}, b = {b}'\n",
    "\n",
    "def check2(c,d):\n",
    "    return f'c={c}, d={d}'\n",
    "\n",
    "mod = Model.wrap(check1) + Model.wrap(check2)\n",
    "\n",
    "#mod['c_1'].constrain = TieConstrain(lambda x: x, 'b_0')    \n",
    "\n",
    "\n",
    "print(mod.call([],11,33,22,1))"
   ]
  }
 ],
 "metadata": {
  "kernelspec": {
   "display_name": "Python 3",
   "language": "python",
   "name": "python3"
  },
  "language_info": {
   "codemirror_mode": {
    "name": "ipython",
    "version": 3
   },
   "file_extension": ".py",
   "mimetype": "text/x-python",
   "name": "python",
   "nbconvert_exporter": "python",
   "pygments_lexer": "ipython3",
   "version": "3.11.6"
  }
 },
 "nbformat": 4,
 "nbformat_minor": 2
}
